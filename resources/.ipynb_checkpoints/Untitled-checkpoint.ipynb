{
 "cells": [
  {
   "cell_type": "code",
   "execution_count": 11,
   "metadata": {},
   "outputs": [],
   "source": [
    "import math\n",
    "import random\n",
    "from itertools import product, combinations"
   ]
  },
  {
   "cell_type": "code",
   "execution_count": 107,
   "metadata": {},
   "outputs": [],
   "source": [
    "NUM_DICE = 4\n",
    "NUM_TMP_CONES = 3"
   ]
  },
  {
   "cell_type": "code",
   "execution_count": 87,
   "metadata": {},
   "outputs": [],
   "source": [
    "def roll_dice():\n",
    "    return random.choices([1,2,3,4,5,6], k=NUM_DICE)\n",
    "\n",
    "def prob_of_roll(roll):\n",
    "    print(roll)\n",
    "    \n",
    "def roll_numbers(roll):\n",
    "    combs = [x for x in combinations(roll, 2)]\n",
    "    combs_sum = [sum(x) for x in combs]\n",
    "    return combs_sum\n",
    "\n",
    "def get_key(v1, v2):\n",
    "    if v1 < v2:\n",
    "        return (v1, v2)\n",
    "    else:\n",
    "        return (v2, v1)\n",
    "    \n",
    "def get_other_index(idx_1, idx_2):\n",
    "    ans = []\n",
    "    for i in range(NUM_DICE):\n",
    "        if i != idx_1 and i != idx_2:\n",
    "            ans.append(i)\n",
    "    return ans"
   ]
  },
  {
   "cell_type": "code",
   "execution_count": 78,
   "metadata": {},
   "outputs": [],
   "source": [
    "outcomes = [x for x in product(range(1, 7), repeat=NUM_DICE)]\n",
    "\n",
    "prob = {}\n",
    "\n",
    "num_outcomes = 0\n",
    "for roll in outcomes:\n",
    "    for i in range(NUM_DICE):\n",
    "        for j in range(NUM_DICE):\n",
    "            if i != j:\n",
    "                idx_1, idx_2 = get_other_index(i, j)\n",
    "                t1 = roll[i] + roll[j]\n",
    "                t2 = roll[idx_1] + roll[idx_2]\n",
    "                key = get_key(t1, t2)\n",
    "                if key not in prob:\n",
    "                    prob[key] = 1\n",
    "                else:\n",
    "                    prob[key] += 1\n",
    "                num_outcomes += 1   \n",
    "                \n",
    "for k, v in prob.items():\n",
    "    prob[k] /= num_outcomes"
   ]
  },
  {
   "cell_type": "code",
   "execution_count": 96,
   "metadata": {},
   "outputs": [],
   "source": [
    "def get_prob(v1, v2=None):\n",
    "    if v2 is None:\n",
    "        total_prob = 0\n",
    "        for v in range(2, 13):\n",
    "            total_prob += get_prob(v1, v)\n",
    "        return total_prob\n",
    "    else:\n",
    "        key = get_key(v1, v2)\n",
    "        return prob[key]\n",
    "    \n",
    "def prob_sequence(seq):\n",
    "    total_prob = 1\n",
    "    for x in seq:\n",
    "        total_prob *= get_prob(x[0], x[1])\n",
    "    return total_prob\n",
    "\n",
    "def prob_for_values(val_list):\n",
    "    total_prob = 0\n",
    "    for k, v in prob.items():\n",
    "        for val in val_list:\n",
    "            if val in k:\n",
    "                total_prob += prob[k]\n",
    "                break\n",
    "    return total_prob"
   ]
  },
  {
   "cell_type": "code",
   "execution_count": 132,
   "metadata": {},
   "outputs": [],
   "source": []
  },
  {
   "cell_type": "code",
   "execution_count": 137,
   "metadata": {},
   "outputs": [
    {
     "data": {
      "text/plain": [
       "0.25848765432098764"
      ]
     },
     "execution_count": 137,
     "metadata": {},
     "output_type": "execute_result"
    }
   ],
   "source": [
    "prob_for_values([8])"
   ]
  },
  {
   "cell_type": "code",
   "execution_count": 141,
   "metadata": {},
   "outputs": [
    {
     "name": "stdout",
     "output_type": "stream",
     "text": [
      "asdfasdf\n"
     ]
    }
   ],
   "source": [
    "class CantStop:\n",
    "    \n",
    "    def __init__(self, num_players):\n",
    "        self.ends = [x for x in range(2, 13)]\n",
    "        self.num_ends = [2,4,6,8,10,12,10,8,6,4,2]\n",
    "        self.num_players = num_players\n",
    "        self.cones = []\n",
    "        self.tmp_cones = []\n",
    "        \n",
    "    def __repr__(self):\n",
    "        rep = 'asdfasdf'\n",
    "        return rep\n",
    "        \n",
    "game = CantStop(4)\n",
    "print(game)"
   ]
  },
  {
   "cell_type": "code",
   "execution_count": 93,
   "metadata": {},
   "outputs": [
    {
     "data": {
      "text/plain": [
       "0.0007716049382716049"
      ]
     },
     "execution_count": 93,
     "metadata": {},
     "output_type": "execute_result"
    }
   ],
   "source": [
    "get_prob(12,12)"
   ]
  },
  {
   "cell_type": "code",
   "execution_count": null,
   "metadata": {},
   "outputs": [],
   "source": []
  }
 ],
 "metadata": {
  "kernelspec": {
   "display_name": "Python 3",
   "language": "python",
   "name": "python3"
  },
  "language_info": {
   "codemirror_mode": {
    "name": "ipython",
    "version": 3
   },
   "file_extension": ".py",
   "mimetype": "text/x-python",
   "name": "python",
   "nbconvert_exporter": "python",
   "pygments_lexer": "ipython3",
   "version": "3.6.7"
  }
 },
 "nbformat": 4,
 "nbformat_minor": 2
}
